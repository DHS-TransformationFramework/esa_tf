{
 "cells": [
  {
   "cell_type": "markdown",
   "id": "e94b959e",
   "metadata": {},
   "source": [
    "## Transformation Framework – SEB & DRB for DHS#5\n",
    "\n",
    "### Download Tests"
   ]
  },
  {
   "cell_type": "code",
   "execution_count": null,
   "id": "67537242",
   "metadata": {},
   "outputs": [],
   "source": [
    "import requests\n",
    "output_path = \"/Users/barghini/devel/ESA_TF/esa_tf/output\""
   ]
  },
  {
   "cell_type": "code",
   "execution_count": null,
   "id": "88fed152",
   "metadata": {},
   "outputs": [],
   "source": [
    "ls {output_path}/"
   ]
  },
  {
   "cell_type": "markdown",
   "id": "56fdfddb",
   "metadata": {},
   "source": [
    "### Copernicus Data Space Ecosystem API"
   ]
  },
  {
   "cell_type": "markdown",
   "id": "e1455e73",
   "metadata": {},
   "source": [
    "**define request**\n",
    "- Product: S2B_MSIL1C_20170430T094029_N0206_R036_T34UGE_20180807T135217\n",
    "- DataSourceName : **cdse**\n",
    "\n",
    "The workflow **esa_tf_test_workflow** download te product and muove it in the output directory"
   ]
  },
  {
   "cell_type": "code",
   "execution_count": null,
   "id": "23aa8baa",
   "metadata": {},
   "outputs": [],
   "source": [
    "reference_cdse = \"S2A_MSIL1C_20230305T075811_N0509_R035_T36MVU_20230305T094419\"\n",
    "params_cdse = {\n",
    "    \"WorkflowId\": \"esa_tf_test_workflow\", \n",
    "    \"InputProductReference\": {\n",
    "        \"Reference\":  \"S2A_MSIL1C_20230305T075811_N0509_R035_T36MVU_20230305T094419\", \n",
    "        \"DataSourceName\": \"cdse\"\n",
    "    }, \n",
    "}"
   ]
  },
  {
   "cell_type": "markdown",
   "id": "0884d905",
   "metadata": {},
   "source": [
    "**submit request**"
   ]
  },
  {
   "cell_type": "code",
   "execution_count": null,
   "id": "09b9b0f8",
   "metadata": {},
   "outputs": [],
   "source": [
    "order_submission_cdse = requests.post(\n",
    "    \"http://localhost:8080/TransformationOrders\", \n",
    "    json=params_cdse, \n",
    ")\n",
    "\n",
    "order_submission_cdse.json()\n",
    "order_cdse_id = order_submission_cdse.json()[\"Id\"]\n",
    "order_cdse_id"
   ]
  },
  {
   "cell_type": "markdown",
   "id": "18a85d5b",
   "metadata": {},
   "source": [
    "**monitor status**"
   ]
  },
  {
   "cell_type": "code",
   "execution_count": null,
   "id": "3bdac5df",
   "metadata": {
    "scrolled": false
   },
   "outputs": [],
   "source": [
    "oders_status = requests.get(f\"http://localhost:8080/TransformationOrders('{order_cdse_id}')\")\n",
    "oders_status.json()[\"Status\"]"
   ]
  },
  {
   "cell_type": "markdown",
   "id": "8eaec62c",
   "metadata": {},
   "source": [
    "**check output**"
   ]
  },
  {
   "cell_type": "code",
   "execution_count": null,
   "id": "0bfb0b8b",
   "metadata": {},
   "outputs": [],
   "source": [
    "ls {output_path}/{order_cdse_id}/{reference_cdse}.zip"
   ]
  },
  {
   "cell_type": "markdown",
   "id": "4b54b6a9",
   "metadata": {},
   "source": [
    "### GSS"
   ]
  },
  {
   "cell_type": "markdown",
   "id": "4b92be8a",
   "metadata": {},
   "source": [
    "**define request**\n",
    "\n",
    "- Product: S2B_MSIL1C_20170430T094029_N0206_R036_T34UGE_20180807T135217.SAFE\n",
    "- DataSourceName : **gss**\n",
    "\n",
    "The workflow **esa_tf_test_workflow** download te product and muove it in the output directory"
   ]
  },
  {
   "cell_type": "code",
   "execution_count": null,
   "id": "c2c65d77",
   "metadata": {},
   "outputs": [],
   "source": [
    "reference_gss = \"S2A_MSIL1C_20230314T215531_N0509_R029_T04VCL_20230314T221432\"\n",
    "params_gss = {\n",
    "    \"WorkflowId\": \"esa_tf_test_workflow\", \n",
    "    \"InputProductReference\": {\n",
    "        \"Reference\":  reference_gss, \n",
    "        \"DataSourceName\": \"gss\"\n",
    "    }, \n",
    "}"
   ]
  },
  {
   "cell_type": "markdown",
   "id": "8dc3b612",
   "metadata": {},
   "source": [
    "**submission**"
   ]
  },
  {
   "cell_type": "code",
   "execution_count": null,
   "id": "737bcb47",
   "metadata": {
    "scrolled": false
   },
   "outputs": [],
   "source": [
    "order_submission_gss = requests.post(\n",
    "    \"http://localhost:8080/TransformationOrders\", \n",
    "    json=params_gss, \n",
    ")\n",
    "\n",
    "order_submission_gss.json()\n",
    "\n",
    "order_gss_id = order_submission_gss.json()[\"Id\"]\n",
    "order_gss_id"
   ]
  },
  {
   "cell_type": "markdown",
   "id": "3524e167",
   "metadata": {},
   "source": [
    "#### order monitor"
   ]
  },
  {
   "cell_type": "code",
   "execution_count": null,
   "id": "7899ce3d",
   "metadata": {},
   "outputs": [],
   "source": [
    "oders_status = requests.get(f\"http://localhost:8080/TransformationOrders('{order_gss_id}')\")\n",
    "oders_status.json()[\"Status\"]"
   ]
  },
  {
   "cell_type": "markdown",
   "id": "00941bc9",
   "metadata": {},
   "source": [
    "#### check result"
   ]
  },
  {
   "cell_type": "code",
   "execution_count": null,
   "id": "7044ca24",
   "metadata": {},
   "outputs": [],
   "source": [
    "ls {output_path}/{order_gss_id}/{reference_gss}.zip"
   ]
  },
  {
   "cell_type": "markdown",
   "id": "0dba2fb2",
   "metadata": {},
   "source": [
    "### SCIHUB"
   ]
  },
  {
   "cell_type": "markdown",
   "id": "a66ff724",
   "metadata": {},
   "source": [
    "**define request**\n",
    "- Product: S2B_MSIL1C_20170430T094029_N0206_R036_T34UGE_20180807T135217.SAFE\n",
    "- DataSourceName : **shihub**\n",
    "\n",
    "The workflow **esa_tf_test_workflow** download te product and muove it in the output directory"
   ]
  },
  {
   "cell_type": "code",
   "execution_count": null,
   "id": "4eecfd99",
   "metadata": {},
   "outputs": [],
   "source": [
    "reference_scihub = \"S2A_MSIL1C_20230305T075811_N0509_R035_T36MVU_20230305T094419\"\n",
    "params_scihub = {\n",
    "    \"WorkflowId\": \"esa_tf_test_workflow\", \n",
    "    \"InputProductReference\": {\n",
    "        \"Reference\":  reference_scihub, \n",
    "        \"DataSourceName\": \"scihub\"\n",
    "    }, \n",
    "}"
   ]
  },
  {
   "cell_type": "markdown",
   "id": "fb6f4adc",
   "metadata": {},
   "source": [
    "**submission**"
   ]
  },
  {
   "cell_type": "code",
   "execution_count": null,
   "id": "f5012a05",
   "metadata": {},
   "outputs": [],
   "source": [
    "order_submission_scihub = requests.post(\n",
    "    \"http://localhost:8080/TransformationOrders\", \n",
    "    json=params_scihub, \n",
    ")\n",
    "\n",
    "order_submission_scihub.json()\n",
    "order_scihub_id = order_submission_scihub.json()[\"Id\"]\n",
    "order_scihub_id"
   ]
  },
  {
   "cell_type": "markdown",
   "id": "4102802a",
   "metadata": {},
   "source": [
    "**order monitor**"
   ]
  },
  {
   "cell_type": "code",
   "execution_count": null,
   "id": "8810098f",
   "metadata": {},
   "outputs": [],
   "source": [
    "oders_status = requests.get(f\"http://localhost:8080/TransformationOrders('{order_scihub_id}')\")\n",
    "oders_status.json()[\"Status\"]"
   ]
  },
  {
   "cell_type": "markdown",
   "id": "8ee32054",
   "metadata": {},
   "source": [
    "#### check result"
   ]
  },
  {
   "cell_type": "code",
   "execution_count": null,
   "id": "81059dff",
   "metadata": {},
   "outputs": [],
   "source": [
    "ls {output_path}/{order_scihub_id}/{reference_scihub}.zip"
   ]
  },
  {
   "cell_type": "code",
   "execution_count": null,
   "id": "f77383b2",
   "metadata": {},
   "outputs": [],
   "source": []
  }
 ],
 "metadata": {
  "kernelspec": {
   "display_name": "Python 3 (ipykernel)",
   "language": "python",
   "name": "python3"
  },
  "language_info": {
   "codemirror_mode": {
    "name": "ipython",
    "version": 3
   },
   "file_extension": ".py",
   "mimetype": "text/x-python",
   "name": "python",
   "nbconvert_exporter": "python",
   "pygments_lexer": "ipython3",
   "version": "3.9.7"
  }
 },
 "nbformat": 4,
 "nbformat_minor": 5
}
