{
 "cells": [
  {
   "cell_type": "markdown",
   "id": "307db52f",
   "metadata": {},
   "source": [
    "# How to implement a new Workflow"
   ]
  },
  {
   "cell_type": "markdown",
   "id": "41936c0e",
   "metadata": {},
   "source": [
    "The Transformation Framework can be extended by adding custom Workflows.\n",
    "\n",
    "Each Workflow shall be contained in a python package that:\n",
    "\n",
    "1. Implement the workflow processing function that executes the processing\n",
    "2. Define in a dictionary the Workflow Configuration, which will include the reference to the workflow processing function and the description of the input parameters.\n",
    "3. Expose the Workflow Configuration as an entrypoint in the package setup\n"
   ]
  },
  {
   "cell_type": "markdown",
   "id": "626bbe42",
   "metadata": {},
   "source": [
    "## 1. Workflow processing function"
   ]
  },
  {
   "cell_type": "markdown",
   "id": "ec1f424a",
   "metadata": {},
   "source": [
    "The python package shall implement the workflow processing function that takes in input:\n",
    "\n",
    "- the product path\n",
    "- the workflow options, a dictionary containing the input parameters\n",
    "- the processing directory\n",
    "\n",
    "It shall return the path of the output product.\n"
   ]
  },
  {
   "cell_type": "code",
   "execution_count": null,
   "id": "27884192",
   "metadata": {},
   "outputs": [],
   "source": [
    "import typing as T\n",
    "\n",
    "def run_processing(\n",
    "    product_path: str,\n",
    "    *,\n",
    "    workflow_options: T.Dict[str, T.Union[str, int, float, bool]],\n",
    "    processing_dir: str,\n",
    "   )-> str:\n",
    "    \"\"\"\n",
    "    Execute the processing and return the path of the output product.\n",
    "\n",
    "    :param str product_path: path of the main Sentinel-2 L1C product folder\n",
    "    :param dict workflow_options: the user's options dictionary\n",
    "    :param str processing_dir: path of the processing directory\n",
    "    :return str:\n",
    "    \"\"\"\n",
    "\n",
    "    ...\n",
    "    \n",
    "    output_product_path = ...\n",
    "    return output_product_path\n"
   ]
  },
  {
   "cell_type": "markdown",
   "id": "f62c0df0",
   "metadata": {},
   "source": [
    "## 2. Workflow Configuration Dictionary"
   ]
  },
  {
   "cell_type": "markdown",
   "id": "a1e1a029",
   "metadata": {},
   "source": [
    "The Workflow Configuration is a Python dictionary defined in the workflow package that contains the reference to the workflow processing function and the description of the workflow input parameters."
   ]
  },
  {
   "cell_type": "markdown",
   "id": "81b13dd5",
   "metadata": {},
   "source": [
    "#### Example: Sen2Cor workflow definition\n",
    "The following example is [Sen2Cor workflow definition](https://github.com/DHS-TransformationFramework/esa_tf/blob/a71f9c22f2b87e9298e10c07abdd022b807f8e08/esa_tf_platform/esa_tf_platform/esa_tf_plugin_sen2cor.py#L290):"
   ]
  },
  {
   "cell_type": "code",
   "execution_count": null,
   "id": "2f6d2868",
   "metadata": {},
   "outputs": [],
   "source": [
    "sen2cor_l1c_l2a = {\n",
    "    \"WorkflowName\": \"Sen2Cor_L1C_L2A\",\n",
    "    \"Description\": \"Product processing from Sentinel-2 L1C to L2A using Sen2Cor v2.10, supporting Level-1C product version 14.2 - 14.6\",\n",
    "    \"Execute\": \"esa_tf_platform.esa_tf_plugin_sen2cor.run_processing\",\n",
    "    \"InputProductType\": \"S2MSI1C\",\n",
    "    \"OutputProductType\": \"S2MSI2A\",\n",
    "    \"WorkflowVersion\": \"0.1\",\n",
    "    \"WorkflowOptions\": {\n",
    "        \"Aerosol_Type\": {\n",
    "            \"Description\": \"Default processing via configuration is the rural (continental) aerosol type with mid latitude summer and an ozone concentration of 331 Dobson Units\",\n",
    "            \"Type\": \"string\",\n",
    "            \"Default\": \"RURAL\",\n",
    "            \"Enum\": [\"MARITIME\", \"RURAL\"],\n",
    "        },\n",
    "        \"Mid_Latitude\": {\n",
    "            \"Description\": \"If  'AUTO' the atmosphere profile will be determined automatically by the processor, selecting WINTER or SUMMER atmosphere profile based on the acquisition date and geographic location of the tile\",\n",
    "            \"Type\": \"string\",\n",
    "            \"Default\": \"SUMMER\",\n",
    "            \"Enum\": [\"SUMMER\", \"WINTER\", \"AUTO\"],\n",
    "        },\n",
    "        \"Ozone_Content\": {\n",
    "            \"Description\": \"0: to get the best approximation from metadata (this is the smallest difference between metadata and column DU), else select for midlatitude summer (MS) atmosphere: 250, 290, 331 (standard MS), 370, 410, 450; for midlatitude winter (MW) atmosphere: 250, 290, 330, 377 (standard MW), 420, 460\",\n",
    "            \"Type\": \"integer\",\n",
    "            \"Default\": 331,\n",
    "            \"Enum\": [0, 250, 290, 330, 331, 370, 377, 410, 420, 450, 460],\n",
    "        },\n",
    "        \"Cirrus_Correction\": {\n",
    "            \"Description\": \"FALSE: no cirrus correction applied, TRUE: cirrus correction applied\",\n",
    "            \"Type\": \"boolean\",\n",
    "            \"Default\": False,\n",
    "        },\n",
    "        \"DEM_Terrain_Correction\": {\n",
    "            \"Description\": \"Use DEM for Terrain Correction, otherwise only used for WVP and AOT\",\n",
    "            \"Type\": \"boolean\",\n",
    "            \"Default\": True,\n",
    "        },\n",
    "        \"Resolution\": {\n",
    "            \"Description\": \"Target resolution, can be 10, 20 or 60m. If omitted, 10, 20 and 60m resolutions will be processed\",\n",
    "            \"Type\": \"integer\",\n",
    "            \"Enum\": [10, 20, 60],\n",
    "            \"Default\": None,\n",
    "        },\n",
    "    },\n",
    "}"
   ]
  },
  {
   "cell_type": "markdown",
   "id": "d15a8a59",
   "metadata": {},
   "source": [
    "#### Workflow Configuration dictionary structure"
   ]
  },
  {
   "cell_type": "markdown",
   "id": "dfb6f3ce",
   "metadata": {},
   "source": [
    "The following set of keys are mandatory:  \n",
    "\n",
    "- \"WorkflowName\" is the name of the Workflow\n",
    "- \"Description\" is a brief description of the workflow\n",
    "- \"Execute\" is a string containing the reference to the Python function that executes the workflow\n",
    "- \"InputProductType\" is a valid Sentinel-1 or Sentinel-2 product type\n",
    "- \"OutputProductType\" is the output product type\n",
    "- \"WorkflowVersion\" is the version of the workflow\n",
    "- \"WorkflowOptions\" is a dictionary containing the definition of the workflow input options\n",
    "\n",
    "\n",
    "The keys of \"WorkflowOptions\" shall be the input parameter names, the values are dictionaries describing the parameters:\n",
    "- \"Description” (mandatory) \n",
    "- \"Type\" (mandatory)\n",
    "- “Default” (optional)\n",
    "- “Enum” (list of the allowed values, optional)"
   ]
  },
  {
   "cell_type": "markdown",
   "id": "1f0bd176",
   "metadata": {},
   "source": [
    "## 3. Workflow configuration entrypoint\n"
   ]
  },
  {
   "cell_type": "markdown",
   "id": "de32f57b",
   "metadata": {},
   "source": [
    "In order to allow Transformation Framework to detect the workflow, is necessary to register the Workflow Configuration.\n",
    "\n",
    "The registration of the workflow is performed via the entry-point system. \n",
    "The Workflow Configuration dictionary shall be registered in the setup of the workflow package, as follows:\n",
    "- the group shall be \"esa_tf.plugin\"\n",
    "- the name shall be the workflow unique identifier\n",
    "- the object reference shall be the Workflow Configuration dictionary reference"
   ]
  },
  {
   "cell_type": "markdown",
   "id": "55404015",
   "metadata": {},
   "source": [
    " #### Example: [Sen2Cor workflow definition](https://github.com/DHS-TransformationFramework/esa_tf/blob/a71f9c22f2b87e9298e10c07abdd022b807f8e08/esa_tf_platform/setup.cfg#L33) in setup.cfg "
   ]
  },
  {
   "cell_type": "code",
   "execution_count": null,
   "id": "aeb3d5d8",
   "metadata": {},
   "outputs": [],
   "source": [
    "entry_points=\"\"\" \n",
    "    [esa_tf.plugin] \n",
    "    sen2cor_l1c_l2a = esa_tf_platform.esa_tf_plugin_sen2cor:sen2cor_l1c_l2a\n",
    "\"\"\""
   ]
  }
 ],
 "metadata": {
  "kernelspec": {
   "display_name": "Python 3 (ipykernel)",
   "language": "python",
   "name": "python3"
  },
  "language_info": {
   "codemirror_mode": {
    "name": "ipython",
    "version": 3
   },
   "file_extension": ".py",
   "mimetype": "text/x-python",
   "name": "python",
   "nbconvert_exporter": "python",
   "pygments_lexer": "ipython3",
   "version": "3.10.2"
  }
 },
 "nbformat": 4,
 "nbformat_minor": 5
}
