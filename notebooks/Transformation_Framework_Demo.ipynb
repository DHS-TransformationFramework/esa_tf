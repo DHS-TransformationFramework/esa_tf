{
 "cells": [
  {
   "cell_type": "markdown",
   "id": "e5375039-3952-4d46-9705-6e2b5b70d0c9",
   "metadata": {
    "tags": []
   },
   "source": [
    "# Trasformation Framework"
   ]
  },
  {
   "cell_type": "markdown",
   "id": "68511296-b270-487c-ae82-34ea6fad35cb",
   "metadata": {
    "tags": [],
    "toc-hr-collapsed": true
   },
   "source": [
    "## Overview"
   ]
  },
  {
   "cell_type": "markdown",
   "id": "f1e1598e-aa4d-4cbe-a985-8c744937bedc",
   "metadata": {},
   "source": [
    "The ESA Transformation Framework is a component of the\n",
    "Copernicus Sentinels Collaborative Data Hub Software (DHS) intended to provide\n",
    "data transformation capabilities via the integration of processing elements\n",
    "applied on-demand to Copernicus Sentinel products."
   ]
  },
  {
   "cell_type": "markdown",
   "id": "96852c50",
   "metadata": {},
   "source": [
    "\n",
    "Basic features implemented:  \n",
    "  - Request the list of available Workflow definitions\n",
    "  - Request the definition of a specific Workflow definition\n",
    "  - Submit a Transformation Order\n",
    "  - Request the list of all the Tranformation Orders\n",
    "  - Monitor a Tranformation Order status\n",
    "\n",
    "Additional features implemented:\n",
    "  - Parallel processing\n",
    "  - Download product from a set of data source (defined in config/hubs_credentials.yaml)\n",
    "  - Check input workflow parameters before triggering the processing\n",
    "  - Don't re-submit the same workflow if it is: enqueued, in processing or succefully completed\n",
    "  - Re-submit on demand failed Transformation Order\n"
   ]
  },
  {
   "cell_type": "markdown",
   "id": "5be74865-bd6d-43ff-a0ab-ccaf6e582652",
   "metadata": {
    "tags": [],
    "toc-hr-collapsed": true
   },
   "source": [
    "## Explore available Workflows "
   ]
  },
  {
   "cell_type": "markdown",
   "id": "b519a5a9-a4be-49bc-998e-c36c074c15ca",
   "metadata": {
    "tags": []
   },
   "source": [
    "Once doker compose is running the API endpoints will now be available at http://localhost:8080.\n",
    "\n",
    "Alternatively to test REST API endpoints can be used : \n",
    " - from a command line interface _curl_ \n",
    " - from a python interface can be used _request_"
   ]
  },
  {
   "cell_type": "markdown",
   "id": "8924d8cc",
   "metadata": {},
   "source": [
    "####  Request the list of available Workflow definition\n",
    "\n",
    "The following URL can then be visited to display the list of available Workflows:\n",
    "http://localhost:8080/Workflows\n",
    "\n",
    "Alternatively:"
   ]
  },
  {
   "cell_type": "code",
   "execution_count": 2,
   "id": "24e2a6c0",
   "metadata": {},
   "outputs": [
    {
     "data": {
      "text/plain": [
       "{'@odata.context': 'http://localhost:8080/$metadata#Workflows',\n",
       " 'value': [{'Id': 'sen2cor_l1c_l2a',\n",
       "   'WorkflowName': 'Sen2Cor_L1C_L2A',\n",
       "   'Description': 'Product processing from Sentinel-2 L1C to L2A. Processor V2.3.6',\n",
       "   'InputProductType': 'S2MSI1C',\n",
       "   'OutputProductType': 'S2MSI2A',\n",
       "   'WorkflowVersion': '0.1',\n",
       "   'WorkflowOptions': {'Aerosol_Type': {'Description': 'Default processing via configuration is the rural (continental) aerosol type with mid latitude summer and an ozone concentration of 331 Dobson Units',\n",
       "     'Type': 'string',\n",
       "     'Default': 'RURAL',\n",
       "     'Enum': ['MARITIME', 'RURAL']},\n",
       "    'Mid_Latitude': {'Description': \"If  'AUTO' the atmosphere profile will be determined automatically by the processor, selecting WINTER or SUMMER atmosphere profile based on the acquisition date and geographic location of the tile\",\n",
       "     'Type': 'string',\n",
       "     'Default': 'SUMMER',\n",
       "     'Enum': ['SUMMER', 'WINTER', 'AUTO']},\n",
       "    'Ozone_Content': {'Description': '0: to get the best approximation from metadata (this is the smallest difference between metadata and column DU), else select for midlatitude summer (MS) atmosphere: 250, 290, 331 (standard MS), 370, 410, 450; for midlatitude winter (MW) atmosphere: 250, 290, 330, 377 (standard MW), 420, 460',\n",
       "     'Type': 'integer',\n",
       "     'Default': 331,\n",
       "     'Enum': [0, 250, 290, 330, 331, 370, 377, 410, 420, 450, 460]},\n",
       "    'Cirrus_Correction': {'Description': 'FALSE: no cirrus correction applied, TRUE: cirrus correction applied',\n",
       "     'Type': 'boolean',\n",
       "     'Default': False},\n",
       "    'DEM_Terrain_Correction': {'Description': 'Use DEM for Terrain Correction, otherwise only used for WVP and AOT',\n",
       "     'Type': 'boolean',\n",
       "     'Default': True},\n",
       "    'Resolution': {'Description': 'Target resolution, can be 10, 20 or 60m. If omitted, 10, 20 and 60m resolutions will be processed',\n",
       "     'Type': 'integer',\n",
       "     'Enum': [10, 20, 60],\n",
       "     'Default': None}}}]}"
      ]
     },
     "execution_count": 2,
     "metadata": {},
     "output_type": "execute_result"
    }
   ],
   "source": [
    "import requests\n",
    "\n",
    "res = requests.get('http://localhost:8080/Workflows')\n",
    "res.json()"
   ]
  },
  {
   "cell_type": "markdown",
   "id": "ec15db4b",
   "metadata": {},
   "source": [
    "#### Request the definition of a specific Workflow: _sen2cor_l1c_l2a_\n",
    "\n",
    "The following URL can then be visited to display the _sen2cor_l1c_l2a_ Workflow: \n",
    "http://localhost:8080/Workflows('sen2cor_l1c_l2a')"
   ]
  },
  {
   "cell_type": "code",
   "execution_count": 1,
   "id": "e6636609",
   "metadata": {},
   "outputs": [
    {
     "ename": "NameError",
     "evalue": "name 'requests' is not defined",
     "output_type": "error",
     "traceback": [
      "\u001b[0;31m---------------------------------------------------------------------------\u001b[0m",
      "\u001b[0;31mNameError\u001b[0m                                 Traceback (most recent call last)",
      "Input \u001b[0;32mIn [1]\u001b[0m, in \u001b[0;36m<module>\u001b[0;34m\u001b[0m\n\u001b[0;32m----> 1\u001b[0m res \u001b[38;5;241m=\u001b[39m \u001b[43mrequests\u001b[49m\u001b[38;5;241m.\u001b[39mget(\u001b[38;5;124m\"\u001b[39m\u001b[38;5;124mhttp://localhost:8080/Workflows(\u001b[39m\u001b[38;5;124m'\u001b[39m\u001b[38;5;124msen2cor_l1c_l2a\u001b[39m\u001b[38;5;124m'\u001b[39m\u001b[38;5;124m)\u001b[39m\u001b[38;5;124m\"\u001b[39m)\n\u001b[1;32m      2\u001b[0m res\u001b[38;5;241m.\u001b[39mjson()\n",
      "\u001b[0;31mNameError\u001b[0m: name 'requests' is not defined"
     ]
    }
   ],
   "source": [
    "res = requests.get(\"http://localhost:8080/Workflows('sen2cor_l1c_l2a')\")\n",
    "res.json()"
   ]
  },
  {
   "cell_type": "markdown",
   "id": "4ef4ad58",
   "metadata": {
    "tags": [],
    "toc-hr-collapsed": true
   },
   "source": [
    "## Transformation order submission _sen2cor_l1c_l2a_"
   ]
  },
  {
   "cell_type": "markdown",
   "id": "d7f5b158",
   "metadata": {},
   "source": [
    "\n",
    "In order to request a new transformation, it is possible to use the command _curl_ in the command-line interface (or _request.post_ in a python interface), passing through a JSON string (or a dictionary) with the full desired configuration, including the workflow id, the product id and the workflow options.\n",
    "\n",
    "The Transformation Framework will:\n",
    "- verify the type and range of the options passed in by the User\n",
    "- submit the processing to the dask workers\n",
    "\n",
    "- create the processing directory\n",
    "- download the product from the first hub in the _hubs_credentials.yaml_ that has published the product\n",
    "- run the plugin workflow\n",
    "- zip and move the output in the output directory.\n",
    "- remove the processing directory\n"
   ]
  },
  {
   "cell_type": "markdown",
   "id": "bd6dc38b",
   "metadata": {},
   "source": [
    "\n",
    "#### _sen2cor_ \n",
    "The sen2cor_l1c_l2a plugin installed within the TF makes use of Sen2Cor v2.9 tool to convert Sentinel-2 L1C products into L2A output product. It implements classification and atmospheric correction. Currently it is used the Digital Elevation Model of the Shuttle Radar Topography Mission [(SRTM DEM)](http://srtm.csi.cgiar.org/wp-content/uploads/files/srtm_5x5/TIFF/), downloaded by _sen2cor_.\n"
   ]
  },
  {
   "cell_type": "markdown",
   "id": "87baf86a-60a6-47a7-8d95-fe059d4448e7",
   "metadata": {},
   "source": [
    "#### List completed Transfromation Orders"
   ]
  },
  {
   "cell_type": "code",
   "execution_count": null,
   "id": "00feba25-64d4-44d3-b0e6-ee6314cc7a5f",
   "metadata": {},
   "outputs": [],
   "source": [
    "requests.get(\"http://localhost:8080/TransformationOrders\").json()"
   ]
  },
  {
   "cell_type": "markdown",
   "id": "6c5a4cdc-db81-47bb-8c0b-282e405cb561",
   "metadata": {},
   "source": [
    "#### Acquisition on Rome L1C : S2A_MSIL1C_20211216T100421_N0301_R122_T32TQM_20211216T105832"
   ]
  },
  {
   "cell_type": "code",
   "execution_count": null,
   "id": "a4a688b7",
   "metadata": {},
   "outputs": [],
   "source": [
    "params_rome = {\n",
    "    \"WorkflowId\": \"sen2cor_l1c_l2a\", \n",
    "    \"InputProductReference\": {\n",
    "        \"Reference\": \"S2A_MSIL1C_20211216T100421_N0301_R122_T32TQM_20211216T105832\",\n",
    "    }, \n",
    "    \"WorkflowOptions\": {\n",
    "        \"Aerosol_Type\": \"RURAL\", \n",
    "        \"Mid_Latitude\": \"AUTO\", \n",
    "        \"Ozone_Content\": 0, \n",
    "        \"Cirrus_Correction\": True, \n",
    "        \"DEM_Terrain_Correction\": True,\n",
    "        \"Resolution\": 60,\n",
    "    }\n",
    "}\n",
    "\n",
    "order_submission_rome = requests.post(\n",
    "    \"http://localhost:8080/TransformationOrders\", \n",
    "    json=params_rome, \n",
    ")\n",
    "\n",
    "order_submission_rome.json()"
   ]
  },
  {
   "cell_type": "code",
   "execution_count": null,
   "id": "a686c1a2",
   "metadata": {},
   "outputs": [],
   "source": [
    "order_id_rome = order_submission_rome.json()[\"Id\"]\n",
    "order_id_rome"
   ]
  },
  {
   "cell_type": "markdown",
   "id": "13b1b5f7",
   "metadata": {},
   "source": [
    "#### Acquisition on Paris: S2A_MSIL1C_20211231T105441_N0301_R051_T31UEP_20211231T125354"
   ]
  },
  {
   "cell_type": "code",
   "execution_count": null,
   "id": "e44fbe00",
   "metadata": {},
   "outputs": [],
   "source": [
    "params_paris = {\n",
    "    \"WorkflowId\": \"sen2cor_l1c_l2a\", \n",
    "    \"InputProductReference\": {\n",
    "        \"Reference\":  \"S2A_MSIL1C_20211221T105451_N0301_R051_T31UDQ_20211221T125433\", \n",
    "        \"DataSourceName\": \"scihub\"\n",
    "    }, \n",
    "    \"WorkflowOptions\": {\n",
    "        \"Aerosol_Type\": \"MARITIME\", \n",
    "        \"Mid_Latitude\": \"AUTO\", \n",
    "        \"Ozone_Content\": 0, \n",
    "        \"Cirrus_Correction\": False, \n",
    "        \"DEM_Terrain_Correction\": False,\n",
    "        \"Resolution\": 60,\n",
    "    }\n",
    "}\n",
    "\n",
    "order_submission_paris = requests.post(\n",
    "    \"http://localhost:8080/TransformationOrders\", \n",
    "    json=params_paris, \n",
    ")\n",
    "\n",
    "order_submission_paris.json()"
   ]
  },
  {
   "cell_type": "code",
   "execution_count": null,
   "id": "ad28c2e9",
   "metadata": {},
   "outputs": [],
   "source": [
    "order_id_paris = order_submission_paris.json()[\"Id\"]\n",
    "order_id_paris"
   ]
  },
  {
   "cell_type": "markdown",
   "id": "765d53bd-7863-479c-a063-28279d762026",
   "metadata": {
    "tags": [],
    "toc-hr-collapsed": true
   },
   "source": [
    "## Monitor the Tranformation Orders status"
   ]
  },
  {
   "cell_type": "markdown",
   "id": "c381d6b9-29e8-41dd-8f59-d5a4e6630c27",
   "metadata": {},
   "source": [
    "The full list of available transformation orders can be retrieved via the following URL:\n",
    "http://localhost:8080/TransformationOrders\n",
    "\n",
    "The single order status can be retrieved via the following URL:\n",
    "http://localhost:8080/TransformationOrders('order_id')\n",
    "\n",
    "It is also possible to filter accessible orders by status type. In this example, the URL queries the list of completed orders:\n",
    "http://localhost:8080/TransformationOrders?\\$filter=Status%20eq%20'completed'"
   ]
  },
  {
   "cell_type": "markdown",
   "id": "0ce8d5aa",
   "metadata": {},
   "source": [
    "#### Request list of all Transformation Order"
   ]
  },
  {
   "cell_type": "code",
   "execution_count": null,
   "id": "71a6097d",
   "metadata": {},
   "outputs": [],
   "source": [
    "oders_status = requests.get(f\"http://localhost:8080/TransformationOrders\")\n",
    "oders_status.json()"
   ]
  },
  {
   "cell_type": "markdown",
   "id": "c7de3299",
   "metadata": {},
   "source": [
    "#### Request specific Transfromation Oreder"
   ]
  },
  {
   "cell_type": "code",
   "execution_count": null,
   "id": "d58cceaa",
   "metadata": {},
   "outputs": [],
   "source": [
    "oders_status = requests.get(f\"http://localhost:8080/TransformationOrders('6b52eb5668797b145d483c5ec77e889b')\")\n",
    "oders_status.json()"
   ]
  },
  {
   "cell_type": "markdown",
   "id": "511f1b59",
   "metadata": {
    "tags": [],
    "toc-hr-collapsed": true
   },
   "source": [
    "## Results on Paris"
   ]
  },
  {
   "cell_type": "markdown",
   "id": "11ad24e4",
   "metadata": {},
   "source": [
    "Read Output filename"
   ]
  },
  {
   "cell_type": "code",
   "execution_count": null,
   "id": "9425a47b-74a3-429a-93ce-8432c90ddcfe",
   "metadata": {},
   "outputs": [],
   "source": [
    "oders_status = requests.get(f\"http://localhost:8080/TransformationOrders('{order_id_paris}')\")\n",
    "oders_status.json()"
   ]
  },
  {
   "cell_type": "code",
   "execution_count": null,
   "id": "bc73f45f-bf7b-4d4d-b5a2-7147b81ddcb6",
   "metadata": {},
   "outputs": [],
   "source": [
    "output_filename = oders_status.json()[\"OutputFile\"]"
   ]
  },
  {
   "cell_type": "markdown",
   "id": "fffc53f9",
   "metadata": {},
   "source": [
    "Unzip Product"
   ]
  },
  {
   "cell_type": "code",
   "execution_count": null,
   "id": "b0163633-b4a5-4202-99e7-c5424f9cb93c",
   "metadata": {},
   "outputs": [],
   "source": [
    "ls ../esa_tf/output/S2A_MSIL2A_20211221T105451_N9999_R051_T31UDQ_20220113T151854.zip"
   ]
  },
  {
   "cell_type": "code",
   "execution_count": null,
   "id": "80fc4311-e79b-4b26-a527-aa8ffe9edc44",
   "metadata": {},
   "outputs": [],
   "source": [
    "import glob\n",
    "import os\n",
    "! unzip {os.path.join(\"../esa_tf/output\", output_filename)} -d tmp/\n",
    "\n",
    "rgb_path = glob.glob(f\"tmp/{output_filename[:-4]}.SAFE/GRANULE/*/IMG_DATA/R60m/*_TCI_60m.jp2\")[0]"
   ]
  },
  {
   "cell_type": "markdown",
   "id": "345101f9",
   "metadata": {},
   "source": [
    "Read True Color and Plot"
   ]
  },
  {
   "cell_type": "code",
   "execution_count": null,
   "id": "de6568b1",
   "metadata": {},
   "outputs": [],
   "source": [
    "import rioxarray\n",
    "from matplotlib import pyplot as plt\n",
    "\n",
    "rgb = rioxarray.open_rasterio(rgb_path)\n",
    "\n",
    "plt.figure(figsize=(20, 20))\n",
    "plt.imshow(rgb.transpose(\"y\", \"x\", \"band\"))\n",
    "plt.title(\"Rome: Sentinel2 L2A True Color 60m\", fontsize=\"xx-large\");"
   ]
  },
  {
   "cell_type": "markdown",
   "id": "9bae9a3b",
   "metadata": {
    "tags": [],
    "toc-hr-collapsed": true
   },
   "source": [
    "## Additional implemented features\n"
   ]
  },
  {
   "cell_type": "markdown",
   "id": "4de714c0",
   "metadata": {},
   "source": [
    "#### Check input workflow parameters before trigger the processing"
   ]
  },
  {
   "cell_type": "code",
   "execution_count": null,
   "id": "6527e2a8",
   "metadata": {},
   "outputs": [],
   "source": [
    "params_wrong_options = {\n",
    "    \"WorkflowId\": \"sen2cor_l1c_l2a\", \n",
    "    \"InputProductReference\": {\n",
    "        \"Reference\": \"S2A_MSIL1C_20211022T062221_N0301_R048_T39GWH_20211022T064133.zip\", \n",
    "        \"DataSourceName\": \"apihub\"\n",
    "    }, \n",
    "    \"WorkflowOptions\": {\n",
    "        \"Aerosol_Type\": \"MARITIME\", \n",
    "        \"Mid_Latitude\": \"AUTO\", \n",
    "        \"Ozone_Content\": 0, \n",
    "        \"Cirrus_Correction\": 1, \n",
    "        \"DEM_Terrain_Correction\": True\n",
    "    }\n",
    "}"
   ]
  },
  {
   "cell_type": "code",
   "execution_count": null,
   "id": "f2ef5b8f",
   "metadata": {},
   "outputs": [],
   "source": [
    "order_submission_wrong_options = requests.post(\n",
    "    \"http://localhost:8080/TransformationOrders\", \n",
    "    json=params_wrong_options, \n",
    ")\n",
    "order_submission_wrong_options.json()"
   ]
  },
  {
   "cell_type": "markdown",
   "id": "2ed2f279",
   "metadata": {},
   "source": [
    "####  Don't re-submit the same workflow if it is queued, in processing or succefully completed\n",
    "\n",
    "- Submission\n",
    "- Check submited transformation\n"
   ]
  },
  {
   "cell_type": "code",
   "execution_count": null,
   "id": "243ed310",
   "metadata": {},
   "outputs": [],
   "source": [
    "order_submission = requests.post(\n",
    "    \"http://localhost:8080/TransformationOrders\", \n",
    "    json=params_rome, \n",
    ")\n",
    "\n",
    "oders_status = requests.get(f\"http://localhost:8080/TransformationOrders\")\n",
    "oders_status.json()"
   ]
  },
  {
   "cell_type": "markdown",
   "id": "c7513c91",
   "metadata": {},
   "source": [
    "#### Resubmit failed workflows"
   ]
  },
  {
   "cell_type": "markdown",
   "id": "01f5ac93",
   "metadata": {},
   "source": [
    "submit workflow"
   ]
  },
  {
   "cell_type": "code",
   "execution_count": null,
   "id": "cfda403b",
   "metadata": {},
   "outputs": [],
   "source": [
    "params = {\n",
    "    \"WorkflowId\": \"sen2cor_l1c_l2a\", \n",
    "    \"InputProductReference\": {\n",
    "        \"Reference\": \"S2A_MSIL1C_20211022T062221_N0301_R048_T39GWH_20211022T064133.zip\", \n",
    "        \"DataSourceName\": \"apihub\"\n",
    "    }, \n",
    "    \"WorkflowOptions\": {\n",
    "        \"Aerosol_Type\": \"MARITIME\", \n",
    "        \"Mid_Latitude\": \"AUTO\", \n",
    "        \"Ozone_Content\": 0, \n",
    "        \"Cirrus_Correction\": True, \n",
    "        \"DEM_Terrain_Correction\": True\n",
    "    }\n",
    "}\n",
    "\n",
    "order_submission = requests.post(\n",
    "    \"http://localhost:8080/TransformationOrders\", \n",
    "    json=params, \n",
    ")\n",
    "order_id = order_submission.json()[\"Id\"]\n",
    "order_submission.json()"
   ]
  },
  {
   "cell_type": "markdown",
   "id": "6b16cfcd",
   "metadata": {},
   "source": [
    "monitor failed workflow"
   ]
  },
  {
   "cell_type": "code",
   "execution_count": null,
   "id": "b0c84642",
   "metadata": {},
   "outputs": [],
   "source": [
    "oders_status = requests.get(f\"http://localhost:8080/TransformationOrders('{order_id}')\")\n",
    "oders_status.json()"
   ]
  },
  {
   "cell_type": "markdown",
   "id": "e0e2ba62",
   "metadata": {},
   "source": [
    "re-submit workflow and monitor"
   ]
  },
  {
   "cell_type": "code",
   "execution_count": null,
   "id": "b5ee8bb0",
   "metadata": {},
   "outputs": [],
   "source": [
    "order_submission = requests.post(\n",
    "    \"http://localhost:8080/TransformationOrders\", \n",
    "    json=params, \n",
    ")\n",
    "\n",
    "oders_status = requests.get(f\"http://localhost:8080/TransformationOrders\")\n",
    "oders_status.json()"
   ]
  },
  {
   "cell_type": "markdown",
   "id": "9a01c895",
   "metadata": {
    "tags": []
   },
   "source": [
    "## Results on Rome"
   ]
  },
  {
   "cell_type": "markdown",
   "id": "74a26735",
   "metadata": {},
   "source": [
    "Read Output filename"
   ]
  },
  {
   "cell_type": "code",
   "execution_count": null,
   "id": "3ce5eb2e-a5df-4385-be61-314d195911f7",
   "metadata": {},
   "outputs": [],
   "source": [
    "oders_status = requests.get(f\"http://localhost:8080/TransformationOrders('{order_id_rome}')\")\n",
    "oders_status.json()"
   ]
  },
  {
   "cell_type": "code",
   "execution_count": null,
   "id": "c9dadfca-7fc0-49ad-ba00-008a08360a37",
   "metadata": {},
   "outputs": [],
   "source": [
    "output_filename = oders_status.json()[\"OutputFile\"]\n",
    "output_filename"
   ]
  },
  {
   "cell_type": "markdown",
   "id": "ac809dee",
   "metadata": {},
   "source": [
    "Unzip product"
   ]
  },
  {
   "cell_type": "code",
   "execution_count": null,
   "id": "606953b5-e7dc-4d7e-909f-1f87fbfaee4c",
   "metadata": {},
   "outputs": [],
   "source": [
    "! unzip {os.path.join(\"../esa_tf/output\", output_filename)} -d tmp/ \n",
    "\n",
    "rgb_path = glob.glob(f\"tmp/{output_filename[:-4]}.SAFE/GRANULE/*/IMG_DATA/R60m/*_TCI_60m.jp2\")[0]"
   ]
  },
  {
   "cell_type": "markdown",
   "id": "af17cca8",
   "metadata": {},
   "source": [
    "Read True Color and Plot"
   ]
  },
  {
   "cell_type": "code",
   "execution_count": null,
   "id": "1911a144-0bf4-4a54-95ca-90ca7131965d",
   "metadata": {},
   "outputs": [],
   "source": [
    "rgb = rioxarray.open_rasterio(rgb_path)\n",
    "\n",
    "plt.figure(figsize=(20, 20))\n",
    "plt.imshow(rgb.transpose(\"y\", \"x\", \"band\"))\n",
    "plt.title(\"Rome: Sentinel2 L2A True Color 60m\", fontsize=\"xx-large\");"
   ]
  },
  {
   "cell_type": "code",
   "execution_count": 5,
   "id": "cb518f36",
   "metadata": {},
   "outputs": [
    {
     "name": "stdout",
     "output_type": "stream",
     "text": [
      "['1,2,', '3', '4']\n"
     ]
    }
   ],
   "source": [
    "print([\"1,2,\", \"3\", \"4\"])"
   ]
  },
  {
   "cell_type": "code",
   "execution_count": 12,
   "id": "621aa6e4",
   "metadata": {},
   "outputs": [
    {
     "name": "stdout",
     "output_type": "stream",
     "text": [
      "['1,2,', '3', '4', array([0, 1, 2])]\n"
     ]
    }
   ],
   "source": [
    "import numpy as np\n",
    "r= [\"1,2,\", \"3\", \"4\", np.arange(3) ]\n",
    "print(f\"{r}\")"
   ]
  },
  {
   "cell_type": "code",
   "execution_count": null,
   "id": "0c8d16e1",
   "metadata": {},
   "outputs": [],
   "source": []
  }
 ],
 "metadata": {
  "kernelspec": {
   "display_name": "Python 3 (ipykernel)",
   "language": "python",
   "name": "python3"
  },
  "language_info": {
   "codemirror_mode": {
    "name": "ipython",
    "version": 3
   },
   "file_extension": ".py",
   "mimetype": "text/x-python",
   "name": "python",
   "nbconvert_exporter": "python",
   "pygments_lexer": "ipython3",
   "version": "3.9.9"
  },
  "toc-autonumbering": false,
  "toc-showtags": false
 },
 "nbformat": 4,
 "nbformat_minor": 5
}
