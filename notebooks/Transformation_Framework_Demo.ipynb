{
 "cells": [
  {
   "cell_type": "markdown",
   "id": "7c56b1e5",
   "metadata": {},
   "source": [
    "notebook required packages:\n",
    "\n",
    "- request\n",
    "- rioxarray\n",
    "- matplotlib"
   ]
  },
  {
   "cell_type": "markdown",
   "id": "e5375039-3952-4d46-9705-6e2b5b70d0c9",
   "metadata": {
    "tags": []
   },
   "source": [
    "# Trasformation Framework "
   ]
  },
  {
   "cell_type": "markdown",
   "id": "68511296-b270-487c-ae82-34ea6fad35cb",
   "metadata": {
    "tags": [],
    "toc-hr-collapsed": true
   },
   "source": [
    "## Overview"
   ]
  },
  {
   "cell_type": "markdown",
   "id": "f1e1598e-aa4d-4cbe-a985-8c744937bedc",
   "metadata": {},
   "source": [
    "The ESA Transformation Framework is a component of the\n",
    "Copernicus Sentinels Collaborative Data Hub Software (DHS) intended to provide\n",
    "data transformation capabilities via the integration of processing elements\n",
    "applied on-demand to Copernicus Sentinel products."
   ]
  },
  {
   "cell_type": "markdown",
   "id": "96852c50",
   "metadata": {},
   "source": [
    "\n",
    "#### Basic fuctionalities implemented for 0.8-osf release\n",
    "The user will have the possibility to:  \n",
    "  - request the list of available Workflow definitions\n",
    "  - request the definition of a specific Workflow\n",
    "  - submit a Transformation Order\n",
    "  - request the list of all the Tranformations Orders\n",
    "  - request a single Tranformation Order\n",
    "\n",
    "#### Additional fuctionalities implemented for 0.8-osf release \n",
    "The TF will:\n",
    "  - perform parallel processing with Dask\n",
    "  - download product from a set of data source (defined in config/hubs_credentials.yaml)\n",
    "  - not re-submit a Transformation Order with the same parameters of an other one currently enqueued, in processing or succefully completed.\n",
    "  - re-submit on demand failed Transformations Orders\n",
    "  - check the validity of input workflow parameters before triggering the processing\n",
    "  - check the input product type before triggering the processing\n",
    "\n"
   ]
  },
  {
   "cell_type": "markdown",
   "id": "5be74865-bd6d-43ff-a0ab-ccaf6e582652",
   "metadata": {
    "tags": [],
    "toc-hr-collapsed": true
   },
   "source": [
    "## How to explore available Workflows "
   ]
  },
  {
   "cell_type": "markdown",
   "id": "b519a5a9-a4be-49bc-998e-c36c074c15ca",
   "metadata": {
    "tags": []
   },
   "source": [
    "The API endpoints will be available at http://localhost:8080 exposing a subset of Open Data Protocol, as long as the docker compose is running.\n",
    "\n",
    "\n",
    "Alternatively it can be used: \n",
    " - _curl_, from a command line interface  \n",
    " - _request_, from a python interface"
   ]
  },
  {
   "cell_type": "markdown",
   "id": "8924d8cc",
   "metadata": {},
   "source": [
    "####  How to get the list of available Workflow definition\n",
    "\n",
    "The following URL can then be visited to display the list of available Workflows:\n",
    "http://localhost:8080/Workflows\n",
    "\n",
    "Alternatively:"
   ]
  },
  {
   "cell_type": "code",
   "execution_count": null,
   "id": "24e2a6c0",
   "metadata": {},
   "outputs": [],
   "source": [
    "import requests\n",
    "\n",
    "res = requests.get('http://localhost:8080/Workflows')\n",
    "res.json()"
   ]
  },
  {
   "cell_type": "markdown",
   "id": "ec15db4b",
   "metadata": {},
   "source": [
    "#### How to get the definition of a specific Workflow: `sen2cor_l1c_l2a`\n",
    "\n",
    "At following URL it is available: `sen2cor_l1c_l2a` Workflow: \n",
    "http://localhost:8080/Workflows('sen2cor_l1c_l2a')"
   ]
  },
  {
   "cell_type": "code",
   "execution_count": null,
   "id": "e6636609",
   "metadata": {},
   "outputs": [],
   "source": [
    "res = requests.get(\"http://localhost:8080/Workflows('sen2cor_l1c_l2a')\")\n",
    "res.json()"
   ]
  },
  {
   "cell_type": "markdown",
   "id": "4ef4ad58",
   "metadata": {
    "tags": [],
    "toc-hr-collapsed": true
   },
   "source": [
    "## How to submit a Transformation Order  "
   ]
  },
  {
   "cell_type": "markdown",
   "id": "d7f5b158",
   "metadata": {},
   "source": [
    "\n",
    "In order to request a new Order, it is possible to use the command _curl_ in the command-line interface (or _request.post_ in a python interface), passing through a JSON string (or a dictionary) with the full desired configuration, including the workflow id, the product id and the workflow options.\n",
    "\n",
    "The Transformation Framework will:\n",
    "- verify the type and range of the options passed by the User\n",
    "- submit the processing to the dask workers\n",
    "\n",
    "- create the processing directory\n",
    "- download the product from the first hub in the _hubs_credentials.yaml_ that has published the product\n",
    "- run the plugin workflow\n",
    "- zip and move the output in the output directory.\n",
    "- remove the processing directory\n"
   ]
  },
  {
   "cell_type": "markdown",
   "id": "bd6dc38b",
   "metadata": {},
   "source": [
    "\n",
    "#### Sen2Cor \n",
    "The `sen2cor_l1c_l2a` plugin installed within the TF makes use of [Sen2Cor v2.9](https://step.esa.int/main/snap-supported-plugins/sen2cor/) tool to convert Sentinel-2 L1C products into L2A output product. It implements classification and atmospheric correction. Currently it is used the Digital Elevation Model of the Shuttle Radar Topography Mission [(SRTM DEM)](http://srtm.csi.cgiar.org/wp-content/uploads/files/srtm_5x5/TIFF/), downloaded by Sen2Cor.\n"
   ]
  },
  {
   "cell_type": "markdown",
   "id": "13b1b5f7",
   "metadata": {},
   "source": [
    "#### Acquisition on Paris: S2A_MSIL1C_20211231T105441_N0301_R051_T31UEP_20211231T125354"
   ]
  },
  {
   "cell_type": "code",
   "execution_count": null,
   "id": "e44fbe00",
   "metadata": {},
   "outputs": [],
   "source": [
    "params_paris = {\n",
    "    \"WorkflowId\": \"sen2cor_l1c_l2a\", \n",
    "    \"InputProductReference\": {\n",
    "        \"Reference\":  \"S2B_MSIL1C_20211109T110159_N0301_R094_T31UDQ_20211109T114303\", \n",
    "        \"DataSourceName\": \"scihub\"\n",
    "    }, \n",
    "    \"WorkflowOptions\": {\n",
    "        \"Aerosol_Type\": \"RURAL\", \n",
    "        \"Mid_Latitude\": \"AUTO\", \n",
    "        \"Ozone_Content\": 0, \n",
    "        \"Cirrus_Correction\": False, \n",
    "        \"DEM_Terrain_Correction\": False,\n",
    "        \"Resolution\": 60,\n",
    "    }\n",
    "}\n",
    "\n",
    "order_submission_paris = requests.post(\n",
    "    \"http://localhost:8080/TransformationOrders\", \n",
    "    json=params_paris, \n",
    ")\n",
    "\n",
    "order_submission_paris.json()"
   ]
  },
  {
   "cell_type": "code",
   "execution_count": null,
   "id": "ad28c2e9",
   "metadata": {},
   "outputs": [],
   "source": [
    "order_id_paris = order_submission_paris.json()[\"Id\"]\n",
    "order_id_paris"
   ]
  },
  {
   "cell_type": "markdown",
   "id": "765d53bd-7863-479c-a063-28279d762026",
   "metadata": {
    "tags": [],
    "toc-hr-collapsed": true
   },
   "source": [
    "## How to monitor the Tranformation Orders status"
   ]
  },
  {
   "cell_type": "markdown",
   "id": "c381d6b9-29e8-41dd-8f59-d5a4e6630c27",
   "metadata": {},
   "source": [
    "- The full list of available Transformation Orders can be retrieved via the following URL:\n",
    "\n",
    "  http://localhost:8080/TransformationOrders\n",
    "\n",
    "- The single Transformation Order can be retrieved using the following URL (where \\<order_id\\> is the ID of the Trasformation Oder):\n",
    "\n",
    "   http://localhost:8080/TransformationOrders('\\<order_id\\>')\n",
    "\n",
    "- It is also possible to filter accessible orders by status type. \n",
    "\n",
    "  For example the following URL queries the list of completed orders:\n",
    "\n",
    "  http://localhost:8080/TransformationOrders?\\$filter=Status%20eq%20'completed'"
   ]
  },
  {
   "cell_type": "markdown",
   "id": "0ce8d5aa",
   "metadata": {},
   "source": [
    "#### Request list of all Transformation Order"
   ]
  },
  {
   "cell_type": "code",
   "execution_count": null,
   "id": "71a6097d",
   "metadata": {},
   "outputs": [],
   "source": [
    "oders_status = requests.get(f\"http://localhost:8080/TransformationOrders\")\n",
    "oders_status.json()"
   ]
  },
  {
   "cell_type": "markdown",
   "id": "c7de3299",
   "metadata": {},
   "source": [
    "#### Request specific Transfromation Oreder"
   ]
  },
  {
   "cell_type": "code",
   "execution_count": null,
   "id": "d58cceaa",
   "metadata": {},
   "outputs": [],
   "source": [
    "oders_status = requests.get(f\"http://localhost:8080/TransformationOrders('{order_id_paris}')\")\n",
    "oders_status.json()"
   ]
  },
  {
   "cell_type": "markdown",
   "id": "511f1b59",
   "metadata": {
    "tags": [],
    "toc-hr-collapsed": true
   },
   "source": [
    "## Example of completed Procesing"
   ]
  },
  {
   "cell_type": "markdown",
   "id": "6c5a4cdc-db81-47bb-8c0b-282e405cb561",
   "metadata": {},
   "source": [
    "#### Acquisition on Rome: S2A_MSIL1C_20211216T100421_N0301_R122_T32TQM_20211216T105832"
   ]
  },
  {
   "cell_type": "code",
   "execution_count": null,
   "id": "a4a688b7",
   "metadata": {},
   "outputs": [],
   "source": [
    "params_rome = {\n",
    "    \"WorkflowId\": \"sen2cor_l1c_l2a\", \n",
    "    \"InputProductReference\": {\n",
    "        \"Reference\": \"S2A_MSIL1C_20211216T100421_N0301_R122_T32TQM_20211216T105832\",\n",
    "    }, \n",
    "    \"WorkflowOptions\": {\n",
    "        \"Aerosol_Type\": \"RURAL\", \n",
    "        \"Mid_Latitude\": \"AUTO\", \n",
    "        \"Ozone_Content\": 0, \n",
    "        \"Cirrus_Correction\": True, \n",
    "        \"DEM_Terrain_Correction\": True,\n",
    "        \"Resolution\": 60,\n",
    "    }\n",
    "}\n",
    "\n",
    "order_submission_rome = requests.post(\n",
    "    \"http://localhost:8080/TransformationOrders\", \n",
    "    json=params_rome, \n",
    ")\n",
    "\n",
    "order_submission_rome.json()"
   ]
  },
  {
   "cell_type": "code",
   "execution_count": null,
   "id": "d86b8914",
   "metadata": {},
   "outputs": [],
   "source": [
    "order_id_rome = order_submission_rome.json()[\"Id\"]\n",
    "order_id_rome"
   ]
  },
  {
   "cell_type": "markdown",
   "id": "11ad24e4",
   "metadata": {},
   "source": [
    "Read Output filename"
   ]
  },
  {
   "cell_type": "code",
   "execution_count": null,
   "id": "9425a47b-74a3-429a-93ce-8432c90ddcfe",
   "metadata": {},
   "outputs": [],
   "source": [
    "oders_status = requests.get(f\"http://localhost:8080/TransformationOrders('{order_id_rome}')\")\n",
    "output_filename = oders_status.json()[\"OutputFile\"]"
   ]
  },
  {
   "cell_type": "markdown",
   "id": "fffc53f9",
   "metadata": {},
   "source": [
    "Unzip Product"
   ]
  },
  {
   "cell_type": "code",
   "execution_count": null,
   "id": "80fc4311-e79b-4b26-a527-aa8ffe9edc44",
   "metadata": {
    "scrolled": false
   },
   "outputs": [],
   "source": [
    "import glob\n",
    "import os\n",
    "! unzip {os.path.join(\"../esa_tf/output\", output_filename)} -d tmp/\n",
    "\n",
    "rgb_path = glob.glob(f\"tmp/{output_filename[:-4]}.SAFE/GRANULE/*/IMG_DATA/R60m/*_TCI_60m.jp2\")[0]"
   ]
  },
  {
   "cell_type": "markdown",
   "id": "345101f9",
   "metadata": {},
   "source": [
    "Read True Color Image and Plot"
   ]
  },
  {
   "cell_type": "code",
   "execution_count": null,
   "id": "de6568b1",
   "metadata": {},
   "outputs": [],
   "source": [
    "import rioxarray\n",
    "from matplotlib import pyplot as plt\n",
    "\n",
    "rgb = rioxarray.open_rasterio(rgb_path)\n",
    "\n",
    "plt.figure(figsize=(20, 20))\n",
    "plt.imshow(rgb.transpose(\"y\", \"x\", \"band\"))\n",
    "plt.title(\"Rome: Sentinel2 L2A True Color 60m\", fontsize=\"xx-large\");"
   ]
  },
  {
   "cell_type": "markdown",
   "id": "9bae9a3b",
   "metadata": {
    "tags": [],
    "toc-hr-collapsed": true
   },
   "source": [
    "## Additional implemented features\n"
   ]
  },
  {
   "cell_type": "markdown",
   "id": "4de714c0",
   "metadata": {},
   "source": [
    "#### The TF checks the validity of input workflow parameters before trigger the processing\n",
    "\n",
    "In the following Workflow options example, `Cirrus_Correction` parameter has a wrong dtype, integer instead of bool. The TF raises the error before triggering the plugin processing."
   ]
  },
  {
   "cell_type": "code",
   "execution_count": null,
   "id": "6527e2a8",
   "metadata": {},
   "outputs": [],
   "source": [
    "params_wrong_options = {\n",
    "    \"WorkflowId\": \"sen2cor_l1c_l2a\", \n",
    "    \"InputProductReference\": {\n",
    "        \"Reference\": \"S2A_MSIL1C_20211022T062221_N0301_R048_T39GWH_20211022T064133.zip\", \n",
    "        \"DataSourceName\": \"apihub\"\n",
    "    }, \n",
    "    \"WorkflowOptions\": {\n",
    "        \"Aerosol_Type\": \"MARITIME\", \n",
    "        \"Mid_Latitude\": \"AUTO\", \n",
    "        \"Ozone_Content\": 0, \n",
    "        \"Cirrus_Correction\": 1, \n",
    "        \"DEM_Terrain_Correction\": True\n",
    "    }\n",
    "}"
   ]
  },
  {
   "cell_type": "code",
   "execution_count": null,
   "id": "f2ef5b8f",
   "metadata": {},
   "outputs": [],
   "source": [
    "order_submission_wrong_options = requests.post(\n",
    "    \"http://localhost:8080/TransformationOrders\", \n",
    "    json=params_wrong_options, \n",
    ")\n",
    "order_submission_wrong_options.json()"
   ]
  },
  {
   "cell_type": "markdown",
   "id": "2ed2f279",
   "metadata": {},
   "source": [
    "#### The TF does not re-submit a Transformation Order with the same parameters of an other one currently enqueued, in processing or succefully completed."
   ]
  },
  {
   "cell_type": "markdown",
   "id": "8e6711f2-7d3a-4f44-b523-cf87b928e19f",
   "metadata": {},
   "source": [
    "Submit the Transformation Order"
   ]
  },
  {
   "cell_type": "code",
   "execution_count": null,
   "id": "34b187af-d7ec-40d9-b07a-134d659ca496",
   "metadata": {},
   "outputs": [],
   "source": [
    "order_submission = requests.post(\n",
    "    \"http://localhost:8080/TransformationOrders\", \n",
    "    json=params_paris, \n",
    ")"
   ]
  },
  {
   "cell_type": "markdown",
   "id": "22b3ca7c-4a8b-4ba8-87d7-b31bb32dd447",
   "metadata": {},
   "source": [
    "Monitor the submited Transformation Order"
   ]
  },
  {
   "cell_type": "code",
   "execution_count": null,
   "id": "028c1e1f-16ba-4d10-825d-e89886e597a4",
   "metadata": {},
   "outputs": [],
   "source": [
    "oders_status = requests.get(f\"http://localhost:8080/TransformationOrders\")\n",
    "oders_status.json()"
   ]
  },
  {
   "cell_type": "markdown",
   "id": "c7513c91",
   "metadata": {},
   "source": [
    "#### The TF re-submits on demand failed Transformation Order"
   ]
  },
  {
   "cell_type": "markdown",
   "id": "01f5ac93",
   "metadata": {},
   "source": [
    "Submit a Transformation Order with a typo in the product Name"
   ]
  },
  {
   "cell_type": "code",
   "execution_count": null,
   "id": "cfda403b",
   "metadata": {},
   "outputs": [],
   "source": [
    "params = {\n",
    "    \"WorkflowId\": \"sen2cor_l1c_l2a\", \n",
    "    \"InputProductReference\": {\n",
    "        \"Reference\": \"S2A_MSIL1C_20211022T062221_N0301_R048_T39GWH_20211022T064133.zip\", \n",
    "        \"DataSourceName\": \"apihub\"\n",
    "    }, \n",
    "    \"WorkflowOptions\": {\n",
    "        \"Aerosol_Type\": \"MARITIME\", \n",
    "        \"Mid_Latitude\": \"AUTO\", \n",
    "        \"Ozone_Content\": 0, \n",
    "        \"Cirrus_Correction\": True, \n",
    "        \"DEM_Terrain_Correction\": True\n",
    "    }\n",
    "}\n",
    "\n",
    "order_submission = requests.post(\n",
    "    \"http://localhost:8080/TransformationOrders\", \n",
    "    json=params, \n",
    ")\n",
    "order_id = order_submission.json()[\"Id\"]\n",
    "order_submission.json()"
   ]
  },
  {
   "cell_type": "markdown",
   "id": "42a623d2-dcb8-45ec-a6ad-111727beb45d",
   "metadata": {},
   "source": [
    "Monitor the Transformation Order"
   ]
  },
  {
   "cell_type": "code",
   "execution_count": null,
   "id": "47a44225-758a-4925-b469-00e21c7eb090",
   "metadata": {},
   "outputs": [],
   "source": [
    "oders_status = requests.get(f\"http://localhost:8080/TransformationOrders('{order_id}')\")\n",
    "oders_status.json()"
   ]
  },
  {
   "cell_type": "markdown",
   "id": "e0e2ba62",
   "metadata": {},
   "source": [
    "Re-submit and monitor the Transformation Order"
   ]
  },
  {
   "cell_type": "code",
   "execution_count": null,
   "id": "b5ee8bb0",
   "metadata": {},
   "outputs": [],
   "source": [
    "order_submission = requests.post(\n",
    "    \"http://localhost:8080/TransformationOrders\", \n",
    "    json=params, \n",
    ")\n",
    "\n",
    "order_submission.json()"
   ]
  },
  {
   "cell_type": "markdown",
   "id": "9a01c895",
   "metadata": {
    "tags": []
   },
   "source": [
    "## Results on Paris"
   ]
  },
  {
   "cell_type": "markdown",
   "id": "74a26735",
   "metadata": {},
   "source": [
    "Read output filename"
   ]
  },
  {
   "cell_type": "code",
   "execution_count": null,
   "id": "3ce5eb2e-a5df-4385-be61-314d195911f7",
   "metadata": {},
   "outputs": [],
   "source": [
    "oders_status = requests.get(f\"http://localhost:8080/TransformationOrders('{order_id_paris}')\")\n",
    "oders_status.json()"
   ]
  },
  {
   "cell_type": "code",
   "execution_count": null,
   "id": "c9dadfca-7fc0-49ad-ba00-008a08360a37",
   "metadata": {},
   "outputs": [],
   "source": [
    "output_filename = oders_status.json()[\"OutputFile\"]\n",
    "output_filename"
   ]
  },
  {
   "cell_type": "markdown",
   "id": "ac809dee",
   "metadata": {},
   "source": [
    "Unzip product"
   ]
  },
  {
   "cell_type": "code",
   "execution_count": null,
   "id": "606953b5-e7dc-4d7e-909f-1f87fbfaee4c",
   "metadata": {
    "scrolled": false
   },
   "outputs": [],
   "source": [
    "! unzip {os.path.join(\"../esa_tf/output\", output_filename)} -d tmp/ \n",
    "\n",
    "rgb_path = glob.glob(f\"tmp/{output_filename[:-4]}.SAFE/GRANULE/*/IMG_DATA/R60m/*_TCI_60m.jp2\")[0]"
   ]
  },
  {
   "cell_type": "markdown",
   "id": "af17cca8",
   "metadata": {},
   "source": [
    "Read True Color Image and Plot"
   ]
  },
  {
   "cell_type": "code",
   "execution_count": null,
   "id": "1911a144-0bf4-4a54-95ca-90ca7131965d",
   "metadata": {},
   "outputs": [],
   "source": [
    "rgb = rioxarray.open_rasterio(rgb_path)\n",
    "\n",
    "plt.figure(figsize=(20, 20))\n",
    "plt.imshow(rgb.transpose(\"y\", \"x\", \"band\"))\n",
    "plt.title(\"Rome: Sentinel2 L2A True Color 60m\", fontsize=\"xx-large\");"
   ]
  }
 ],
 "metadata": {
  "kernelspec": {
   "display_name": "Python 3 (ipykernel)",
   "language": "python",
   "name": "python3"
  },
  "language_info": {
   "codemirror_mode": {
    "name": "ipython",
    "version": 3
   },
   "file_extension": ".py",
   "mimetype": "text/x-python",
   "name": "python",
   "nbconvert_exporter": "python",
   "pygments_lexer": "ipython3",
   "version": "3.10.2"
  },
  "toc-autonumbering": false,
  "toc-showtags": false
 },
 "nbformat": 4,
 "nbformat_minor": 5
}
